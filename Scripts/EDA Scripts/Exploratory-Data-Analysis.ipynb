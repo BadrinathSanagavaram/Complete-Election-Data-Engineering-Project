{
 "cells": [
  {
   "cell_type": "code",
   "execution_count": 1,
   "id": "6a08cff9",
   "metadata": {},
   "outputs": [],
   "source": [
    "import pandas as pd\n",
    "import numpy as np\n",
    "from matplotlib import pyplot as plt\n",
    "import seaborn as sns"
   ]
  },
  {
   "cell_type": "markdown",
   "id": "9cb0e0bf",
   "metadata": {},
   "source": [
    "## Checking whether the column names and number of columns and making required changes"
   ]
  },
  {
   "cell_type": "code",
   "execution_count": 69,
   "id": "406d39c1",
   "metadata": {},
   "outputs": [],
   "source": [
    "year = [1980,1984,1989,1991,1996,1998,1999,2004,2009,2014,2019,2024]\n",
    "dfs = {}\n",
    "for i in year:\n",
    "    dfs[i] = pd.read_csv(f'/Users/badrinathsanagavaram/Desktop/Election Data Analysis/Data/transformed-data/{i}-transformed-data.csv')"
   ]
  },
  {
   "cell_type": "code",
   "execution_count": 70,
   "id": "78921501",
   "metadata": {},
   "outputs": [
    {
     "name": "stdout",
     "output_type": "stream",
     "text": [
      "['Unnamed: 0.1', 'Unnamed: 0', 'State', 'No', 'Name']\n",
      "['Unnamed: 0.1', 'Unnamed: 0', 'State', 'No', 'Name']\n",
      "['Unnamed: 0.1', 'Unnamed: 0', 'State', 'No', 'Name']\n",
      "['Unnamed: 0.1', 'Unnamed: 0', 'State', 'No', 'Name']\n",
      "['Unnamed: 0.1', 'Unnamed: 0', 'State', 'No', 'Name']\n",
      "['Unnamed: 0.1', 'Unnamed: 0', 'State', 'No', 'Name']\n",
      "['Unnamed: 0.1', 'Unnamed: 0', 'State', 'No', 'Name']\n",
      "['Unnamed: 0.1', 'Unnamed: 0', 'State', 'No', 'Name']\n",
      "['Unnamed: 0.1', 'Unnamed: 0', 'State', 'No', 'Name']\n",
      "['Unnamed: 0.1', 'Unnamed: 0', 'State', 'No', 'Name']\n",
      "['Unnamed: 0.2', 'Unnamed: 0.1', 'Unnamed: 0', 'State', 'Name']\n",
      "['Unnamed: 0.1', 'Unnamed: 0', 'State', 'Name', 'Type']\n"
     ]
    }
   ],
   "source": [
    "col_year_dict = {}\n",
    "for i in year:\n",
    "    col_list = []\n",
    "    for col in dfs[i].columns:\n",
    "        col_list.append(col)\n",
    "    col_year_dict[i] = col_list\n",
    "for i in year:\n",
    "    print(col_year_dict[i][:5])"
   ]
  },
  {
   "cell_type": "code",
   "execution_count": 71,
   "id": "ba613e7e",
   "metadata": {},
   "outputs": [],
   "source": [
    "for i in year:\n",
    "    if i == 2019:\n",
    "        dfs[i] = dfs[i][dfs[i].columns[3:]]\n",
    "    elif i == 2024:\n",
    "        dfs[i] = dfs[i][dfs[i].columns[2:]]\n",
    "    else:\n",
    "        dfs[i] = dfs[i][dfs[i].columns[2:]]\n",
    "        dfs[i] = dfs[i].drop('No', axis = 1)"
   ]
  },
  {
   "cell_type": "code",
   "execution_count": 72,
   "id": "c16f2f92",
   "metadata": {},
   "outputs": [
    {
     "name": "stdout",
     "output_type": "stream",
     "text": [
      "{'SKM', 'MRP', 'SJP', 'ZPM', 'NCP-SP', 'TDP', 'DMK', 'YSRC', 'ICS', 'PDP', 'JD(U)', 'AJSU', 'GNLF', 'JKPDP', 'JNP(S)', 'PWP', 'AC', 'INLD', 'HLD(R)', 'TRS', 'AAP', 'NCP', 'ADMK', 'BVA', 'Independent', 'RLP', 'LS', 'JSP', 'ADC', 'MDMK', 'SS', 'SAD', 'AIIC(S)', 'CPI(ML)(L)', 'NPP', 'SSP', 'AITC', 'NLP', 'BBM', 'MNF', 'CPI(ML)L', 'ASDC', 'HVC', 'AIRJP', 'AIIC(T)', 'KC(M)', 'KEC(M)', 'RJD', 'RPI', 'TMC(M)', 'JKNC', 'HJCBL', 'AD', 'J.V.M (P)', 'M-COR', 'IPF', 'SHS', 'ICJ', 'NPC', 'SDF', 'BJD', 'MPVC', 'CPM', 'SP', 'MIM', 'ABLTC', 'RLSP', 'IUML', 'SAP', 'JD', 'RSP', 'CPI', 'UMFA', 'RPI(A)', 'AIMIM', 'SAD(M)', 'LJNSP', 'VPP', 'RLD', 'AINRC', 'HAM(S)', 'JKD', 'MUL', 'BNP', 'TD', 'KCJ', 'AIFB', 'JKN', 'HMS', 'WBTC', 'JD(S)', 'INC(U)', 'JVM', 'FBL', 'JP', 'ASP(KR)', 'AGP', 'SS(UBT)', 'INC', 'VCK', 'LJP(RV)', 'UPPL', 'AD(S)', 'J&KNC', 'AIADMK', 'KCP', 'JMM', 'BOPF', 'JNP', 'HVP', 'SWP', 'CPI(M)', 'AIDMK', 'JD(G)', 'SJP(R)', 'IND', 'LJP', 'AUDF', 'PWPI', 'KEC', 'KCM', 'BAP', 'ICS(SCS)', 'UGDP', 'LKD', 'BSP', 'MSCP', 'BJP', 'IFDP', 'ADK', 'MAG', 'PMK', 'YSRCP', 'INC(I)', 'NPF'}\n"
     ]
    }
   ],
   "source": [
    "party_list = []\n",
    "for i in year:\n",
    "    for j in dfs[i]['Winning Party'].unique():\n",
    "        party_list.append(j)\n",
    "print(set(sorted(party_list)))\n",
    "    "
   ]
  },
  {
   "cell_type": "code",
   "execution_count": 73,
   "id": "c2186cde",
   "metadata": {},
   "outputs": [
    {
     "name": "stdout",
     "output_type": "stream",
     "text": [
      "135\n"
     ]
    }
   ],
   "source": [
    "print(len(sorted(set(party_list))))"
   ]
  },
  {
   "cell_type": "code",
   "execution_count": 79,
   "id": "1ffd4685",
   "metadata": {},
   "outputs": [],
   "source": [
    "party_renames = {\n",
    "    \"INC(U)\"   : \"INC\",\n",
    "    \"INC(I)\"   : \"INC\",\n",
    "    \"AIIC(S)\"  : \"INC\",\n",
    "    \"AIIC(T)\"  : \"INC\",\n",
    "    \"HVC\"      : \"INC\",\n",
    "    \"HVP\"      : \"INC\",\n",
    "    \"MSCP\"     : \"INC\",\n",
    "    \"ICS\"      : \"INC\",\n",
    "    \"J.V.M (P)\" : \"BJP\",\n",
    "    \"JVM\"       : \"BJP\", \n",
    "    \"LS\"        : \"JD(U)\",\n",
    "    \"RLSP\"      : \"JD(U)\",\n",
    "    \"TD\"        : \"TDP\",    \n",
    "    \"YSRC\"      : \"YSRCP\",     \n",
    "    \"SS\"        : \"SHS\",      \n",
    "    \"WBTC\"      : \"AITC\", \n",
    "    \"ADK\"       : \"AIADMK\", \n",
    "    \"ADMK\"      : \"AIADMK\",  \n",
    "    \"AIDMK\"     : \"AIADMK\",  \n",
    "    \"SAD(M)\"    : \"SAD\",   \n",
    "    'CPI': 'CPI', \n",
    "    'CPI(M)' : 'CPI', \n",
    "    'CPI(ML)(L)': 'CPI', \n",
    "    'CPI(ML)L' : 'CPI', \n",
    "    'CPM' : 'CPI'\n",
    "}"
   ]
  },
  {
   "cell_type": "code",
   "execution_count": 83,
   "id": "953b6a60",
   "metadata": {},
   "outputs": [],
   "source": [
    "for i in year:\n",
    "    dfs[i][['Winning Party','Runner Up Party']] = dfs[i][['Winning Party','Runner Up Party']].replace(party_renames)\n",
    "    dfs[i][['Winning Party','Runner Up Party']] = dfs[i][['Winning Party','Runner Up Party']].replace({'AIFB': 'CPI'})"
   ]
  },
  {
   "cell_type": "code",
   "execution_count": 84,
   "id": "f41a0e4d",
   "metadata": {},
   "outputs": [
    {
     "name": "stdout",
     "output_type": "stream",
     "text": [
      "110\n",
      "['AAP', 'ABLTC', 'AC', 'AD', 'AD(S)', 'ADC', 'AGP', 'AIADMK', 'AIMIM', 'AINRC', 'AIRJP', 'AITC', 'AJSU', 'ASDC', 'ASP(KR)', 'AUDF', 'BAP', 'BBM', 'BJD', 'BJP', 'BNP', 'BOPF', 'BSP', 'BVA', 'CPI', 'DMK', 'FBL', 'GNLF', 'HAM(S)', 'HJCBL', 'HLD(R)', 'HMS', 'ICJ', 'ICS(SCS)', 'IFDP', 'INC', 'IND', 'INLD', 'IPF', 'IUML', 'Independent', 'J&KNC', 'JD', 'JD(G)', 'JD(S)', 'JD(U)', 'JKD', 'JKN', 'JKNC', 'JKPDP', 'JMM', 'JNP', 'JNP(S)', 'JP', 'JSP', 'KC(M)', 'KCJ', 'KCM', 'KCP', 'KEC', 'KEC(M)', 'LJNSP', 'LJP', 'LJP(RV)', 'LKD', 'M-COR', 'MAG', 'MDMK', 'MIM', 'MNF', 'MPVC', 'MRP', 'MUL', 'NCP', 'NCP-SP', 'NLP', 'NPC', 'NPF', 'NPP', 'PDP', 'PMK', 'PWP', 'PWPI', 'RJD', 'RLD', 'RLP', 'RPI', 'RPI(A)', 'RSP', 'SAD', 'SAP', 'SDF', 'SHS', 'SJP', 'SJP(R)', 'SKM', 'SP', 'SS(UBT)', 'SSP', 'SWP', 'TDP', 'TMC(M)', 'TRS', 'UGDP', 'UMFA', 'UPPL', 'VCK', 'VPP', 'YSRCP', 'ZPM']\n"
     ]
    }
   ],
   "source": [
    "party_list = []\n",
    "for i in year:\n",
    "    for j in dfs[i]['Winning Party'].unique():\n",
    "        party_list.append(j)\n",
    "print(len(sorted(set(party_list))))\n",
    "print(sorted(set(party_list)))"
   ]
  },
  {
   "cell_type": "code",
   "execution_count": 85,
   "id": "e6744c22",
   "metadata": {},
   "outputs": [],
   "source": [
    "for i in year:\n",
    "    dfs[i].to_csv(f'/Users/badrinathsanagavaram/Desktop/Election Data Analysis/Data/transformed-data/{i}-transformed-data.csv')"
   ]
  },
  {
   "cell_type": "code",
   "execution_count": null,
   "id": "3088b5f2",
   "metadata": {},
   "outputs": [],
   "source": []
  }
 ],
 "metadata": {
  "kernelspec": {
   "display_name": "base",
   "language": "python",
   "name": "python3"
  },
  "language_info": {
   "codemirror_mode": {
    "name": "ipython",
    "version": 3
   },
   "file_extension": ".py",
   "mimetype": "text/x-python",
   "name": "python",
   "nbconvert_exporter": "python",
   "pygments_lexer": "ipython3",
   "version": "3.11.5"
  }
 },
 "nbformat": 4,
 "nbformat_minor": 5
}
