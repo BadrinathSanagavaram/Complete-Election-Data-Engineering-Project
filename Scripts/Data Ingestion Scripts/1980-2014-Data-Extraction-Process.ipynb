{
 "cells": [
  {
   "cell_type": "markdown",
   "id": "4f6b6908",
   "metadata": {},
   "source": [
    "## Importing Required Libraries"
   ]
  },
  {
   "cell_type": "code",
   "execution_count": 81,
   "id": "6e61fe62",
   "metadata": {},
   "outputs": [],
   "source": [
    "from bs4 import BeautifulSoup\n",
    "import requests\n",
    "import pandas as pd\n",
    "import numpy as np"
   ]
  },
  {
   "cell_type": "markdown",
   "id": "ff1a0df6",
   "metadata": {},
   "source": [
    "## Data Extraction and Data Scraping Process"
   ]
  },
  {
   "cell_type": "code",
   "execution_count": 93,
   "id": "1ec10ba8",
   "metadata": {},
   "outputs": [],
   "source": [
    "years = [1980,1984,1989,1991,1996,1998,1999,2004,2009,2014]\n",
    "for year in years:\n",
    "    url = f\"https://www.elections.in/parliamentary-constituencies/{year}-election-results.html\"\n",
    "    #print(url)\n",
    "    response = requests.get(url)\n",
    "    soup = BeautifulSoup(response.text, 'html.parser')\n",
    "    all_table = soup.find_all('table')\n",
    "    main_table=all_table[1]\n",
    "    main_table\n",
    "    headers = []\n",
    "    for i in main_table.find_all('th'):\n",
    "        headers.append(i.text.strip())\n",
    "    headers\n",
    "    df = pd.DataFrame(columns=headers)\n",
    "    df\n",
    "    table_rows = []\n",
    "    rows = main_table.find_all('tr')\n",
    "    for i in rows:\n",
    "        individual_rows = i.find_all('td')\n",
    "        ind_rows = [j.text.strip() for j in individual_rows]\n",
    "        table_rows.append(ind_rows)\n",
    "    table_rows=table_rows[1:]\n",
    "    table_rows\n",
    "    for i in table_rows:\n",
    "        length = len(df)\n",
    "        df.loc[len] = i\n",
    "    df.to_csv(f'/Users/badrinathsanagavaram/Desktop/Election Data Analysis/Data/{year}-election-data-raw.csv')"
   ]
  },
  {
   "cell_type": "markdown",
   "id": "2eef0566",
   "metadata": {},
   "source": [
    "## Creating a dictionary of all the API's on which we have performed data scraping"
   ]
  },
  {
   "cell_type": "code",
   "execution_count": 136,
   "id": "e24057b5",
   "metadata": {},
   "outputs": [],
   "source": [
    "Headers = {\n",
    "    'Year' : [],\n",
    "    'URL' : []\n",
    "}\n",
    "for year in years:\n",
    "    Headers['Year'].append(year)\n",
    "    Headers['URL'].append(f\"https://www.elections.in/parliamentary-constituencies/{year}-election-results.html\")\n",
    "URL_df = pd.DataFrame(Headers)"
   ]
  },
  {
   "cell_type": "code",
   "execution_count": 137,
   "id": "ab23c37d",
   "metadata": {},
   "outputs": [],
   "source": [
    "URL_df.to_csv('/Users/badrinathsanagavaram/Desktop/Election Data Analysis/Data/API-data-dictionary.csv')"
   ]
  },
  {
   "cell_type": "code",
   "execution_count": null,
   "id": "ce9ca38c",
   "metadata": {},
   "outputs": [],
   "source": []
  }
 ],
 "metadata": {
  "kernelspec": {
   "display_name": "Python 3 (ipykernel)",
   "language": "python",
   "name": "python3"
  },
  "language_info": {
   "codemirror_mode": {
    "name": "ipython",
    "version": 3
   },
   "file_extension": ".py",
   "mimetype": "text/x-python",
   "name": "python",
   "nbconvert_exporter": "python",
   "pygments_lexer": "ipython3",
   "version": "3.11.5"
  }
 },
 "nbformat": 4,
 "nbformat_minor": 5
}
