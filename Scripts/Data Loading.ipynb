{
 "cells": [
  {
   "cell_type": "code",
   "execution_count": 14,
   "id": "b78df26e",
   "metadata": {},
   "outputs": [],
   "source": [
    "import pandas as pd\n",
    "from sqlalchemy import create_engine\n",
    "\n",
    "# Your MySQL connection details\n",
    "username = 'root'\n",
    "password = 'Badri'\n",
    "host     = 'localhost'\n",
    "port     = '3306'\n",
    "database = 'Indian_Election_Historical_Datasets'\n",
    "\n",
    "# Create the connection string\n",
    "engine = create_engine(f\"mysql+pymysql://{username}:{password}@{host}:{port}/{database}\")\n",
    "\n",
    "year = [1980,1984,1989,1991,1996,1998,1999,2004,2009,2014,2019,2024]\n",
    "dfs = {}\n",
    "for i in year:\n",
    "    dfs[i] = pd.read_csv(f'/Users/badrinathsanagavaram/Desktop/Election Data Analysis/Data/transformed-data-backup/{i}-backup-data.csv', index_col=0)\n",
    "    dfs[i].drop(columns = 'Unnamed: 0', inplace = True)\n",
    "    dfs[i].to_sql(name=f'election_results_{i}', con=engine, if_exists='replace', index=False)\n"
   ]
  },
  {
   "cell_type": "code",
   "execution_count": null,
   "id": "1804dc02",
   "metadata": {},
   "outputs": [
    {
     "name": "stdout",
     "output_type": "stream",
     "text": [
      "1980 : Index(['Unnamed: 0', 'State', 'No', 'Name', 'Type', 'Winning Candidate',\n",
      "       'Winning Candidate Gender', 'Winning Party', 'Winner's Votes',\n",
      "       'Runner Up Candidate', 'Runner Up Gender', 'Runner Up Party',\n",
      "       'Runner Up Votes', 'Margin Votes', 'Year', 'Party_clean'],\n",
      "      dtype='object')\n",
      "1984 : Index(['Unnamed: 0', 'State', 'No', 'Name', 'Type', 'Winning Candidate',\n",
      "       'Winning Candidate Gender', 'Winning Party', 'Winner's Votes',\n",
      "       'Runner Up Candidate', 'Runner Up Gender', 'Runner Up Party',\n",
      "       'Runner Up Votes', 'Margin Votes', 'Year', 'Party_clean'],\n",
      "      dtype='object')\n",
      "1989 : Index(['Unnamed: 0', 'State', 'No', 'Name', 'Type', 'Winning Candidate',\n",
      "       'Winning Candidate Gender', 'Winning Party', 'Winner's Votes',\n",
      "       'Runner Up Candidate', 'Runner Up Gender', 'Runner Up Party',\n",
      "       'Runner Up Votes', 'Margin Votes', 'Year', 'Party_clean'],\n",
      "      dtype='object')\n",
      "1991 : Index(['Unnamed: 0', 'State', 'No', 'Name', 'Type', 'Winning Candidate',\n",
      "       'Winning Candidate Gender', 'Winning Party', 'Winner's Votes',\n",
      "       'Runner Up Candidate', 'Runner Up Gender', 'Runner Up Party',\n",
      "       'Runner Up Votes', 'Margin Votes', 'Year', 'Party_clean'],\n",
      "      dtype='object')\n",
      "1996 : Index(['Unnamed: 0', 'State', 'No', 'Name', 'Type', 'Winning Candidate',\n",
      "       'Winning Candidate Gender', 'Winning Party', 'Winner's Votes',\n",
      "       'Runner Up Candidate', 'Runner Up Gender', 'Runner Up Party',\n",
      "       'Runner Up Votes', 'Margin Votes', 'Year', 'Party_clean'],\n",
      "      dtype='object')\n",
      "1998 : Index(['Unnamed: 0', 'State', 'No', 'Name', 'Type', 'Winning Candidate',\n",
      "       'Winning Candidate Gender', 'Winning Party', 'Winner's Votes',\n",
      "       'Runner Up Candidate', 'Runner Up Gender', 'Runner Up Party',\n",
      "       'Runner Up Votes', 'Margin Votes', 'Year', 'Party_clean'],\n",
      "      dtype='object')\n",
      "1999 : Index(['Unnamed: 0', 'State', 'No', 'Name', 'Type', 'Winning Candidate',\n",
      "       'Winning Candidate Gender', 'Winning Party', 'Winner's Votes',\n",
      "       'Runner Up Candidate', 'Runner Up Gender', 'Runner Up Party',\n",
      "       'Runner Up Votes', 'Margin Votes', 'Year', 'Party_clean'],\n",
      "      dtype='object')\n",
      "2004 : Index(['Unnamed: 0', 'State', 'No', 'Name', 'Type', 'Winning Candidate',\n",
      "       'Winning Candidate Gender', 'Winning Party', 'Winner's Votes',\n",
      "       'Runner Up Candidate', 'Runner Up Gender', 'Runner Up Party',\n",
      "       'Runner Up Votes', 'Margin Votes', 'Year', 'Party_clean'],\n",
      "      dtype='object')\n",
      "2009 : Index(['Unnamed: 0', 'State', 'No', 'Name', 'Type', 'Winning Candidate',\n",
      "       'Winning Candidate Gender', 'Winning Party', 'Winner's Votes',\n",
      "       'Runner Up Candidate', 'Runner Up Gender', 'Runner Up Party',\n",
      "       'Runner Up Votes', 'Margin Votes', 'Year', 'Party_clean'],\n",
      "      dtype='object')\n",
      "2014 : Index(['Unnamed: 0', 'State', 'No', 'Name', 'Type', 'Winning Candidate',\n",
      "       'Winning Party', 'Winner's Votes', 'Runner Up Candidate',\n",
      "       'Runner Up Party', 'Runner Up Votes', 'Margin Votes', 'Year',\n",
      "       'Party_clean'],\n",
      "      dtype='object')\n",
      "2019 : Index(['Unnamed: 0', 'State', 'Name', 'Type', 'Candidate', 'Winning Party',\n",
      "       'Winner's Votes', 'Winning Percentage', 'Runner Up Candidate',\n",
      "       'Runner Up Party', 'Runner Up Votes', 'Runner Up Percentage', 'Margin',\n",
      "       'Margin %', 'Party_clean', 'Year'],\n",
      "      dtype='object')\n",
      "2024 : Index(['Unnamed: 0', 'Name', 'Type', 'Winning Candidate', 'Winning Party',\n",
      "       'Winning Percentage', 'Winner's Votes', 'Runner Up Candidate',\n",
      "       'Runner Up Party', 'Runner Up Percentage', 'Runner Up Votes',\n",
      "       'Margin %', 'Margin Votes', 'State', 'Year'],\n",
      "      dtype='object')\n"
     ]
    }
   ],
   "source": [
    "for i in year:\n",
    "    dfs[i] = pd.read_csv(f'/Users/badrinathsanagavaram/Desktop/Election Data Analysis/Data/transformed-data-backup/{i}-backup-data.csv', index_col=0)\n",
    "    a= []\n",
    "    for j in range(0,4):\n",
    "        "
   ]
  },
  {
   "cell_type": "code",
   "execution_count": null,
   "id": "109e38a1",
   "metadata": {},
   "outputs": [],
   "source": []
  }
 ],
 "metadata": {
  "kernelspec": {
   "display_name": "base",
   "language": "python",
   "name": "python3"
  },
  "language_info": {
   "codemirror_mode": {
    "name": "ipython",
    "version": 3
   },
   "file_extension": ".py",
   "mimetype": "text/x-python",
   "name": "python",
   "nbconvert_exporter": "python",
   "pygments_lexer": "ipython3",
   "version": "3.11.5"
  }
 },
 "nbformat": 4,
 "nbformat_minor": 5
}
