{
 "cells": [
  {
   "cell_type": "code",
   "execution_count": 143,
   "id": "6a08cff9",
   "metadata": {},
   "outputs": [],
   "source": [
    "import pandas as pd\n",
    "import numpy as np\n",
    "from matplotlib import pyplot as plt\n",
    "import seaborn as sns"
   ]
  },
  {
   "cell_type": "markdown",
   "id": "9cb0e0bf",
   "metadata": {},
   "source": [
    "## Checking whether the column names and number of columns and making required changes"
   ]
  },
  {
   "cell_type": "code",
   "execution_count": 196,
   "id": "406d39c1",
   "metadata": {},
   "outputs": [],
   "source": [
    "year = [1980,1984,1989,1991,1996,1998,1999,2004,2009,2014,2019,2024]\n",
    "dfs = {}\n",
    "for i in year:\n",
    "    dfs[i] = pd.read_csv(f'/Users/badrinathsanagavaram/Desktop/Election Data Analysis/Data/transformed-data/{i}-transformed-data.csv')"
   ]
  },
  {
   "cell_type": "code",
   "execution_count": 199,
   "id": "78921501",
   "metadata": {},
   "outputs": [
    {
     "name": "stdout",
     "output_type": "stream",
     "text": [
      "['State', 'No', 'Name', 'Type', 'Winning Candidate']\n",
      "['State', 'No', 'Name', 'Type', 'Winning Candidate']\n",
      "['State', 'No', 'Name', 'Type', 'Winning Candidate']\n",
      "['State', 'No', 'Name', 'Type', 'Winning Candidate']\n",
      "['State', 'No', 'Name', 'Type', 'Winning Candidate']\n",
      "['State', 'No', 'Name', 'Type', 'Winning Candidate']\n",
      "['State', 'No', 'Name', 'Type', 'Winning Candidate']\n",
      "['State', 'No', 'Name', 'Type', 'Winning Candidate']\n",
      "['State', 'No', 'Name', 'Type', 'Winning Candidate']\n",
      "['State', 'No', 'Name', 'Type', 'Winning Candidate']\n",
      "['State', 'Name', 'Type', 'Candidate', 'Winning Party']\n",
      "['Name', 'Type', 'Winning Candidate', 'Winning Party', 'Winning Percentage']\n"
     ]
    }
   ],
   "source": [
    "col_year_dict = {}\n",
    "for i in year:\n",
    "    col_list = []\n",
    "    for col in dfs[i].columns:\n",
    "        col_list.append(col)\n",
    "    col_year_dict[i] = col_list\n",
    "for i in year:\n",
    "    print(col_year_dict[i][:5])"
   ]
  },
  {
   "cell_type": "code",
   "execution_count": 198,
   "id": "ba613e7e",
   "metadata": {},
   "outputs": [],
   "source": [
    "for i in year:\n",
    "    dfs[i] = dfs[i][dfs[i].columns[1:]]\n",
    "    #dfs[i] = dfs[i].drop('No', axis = 1)\n"
   ]
  },
  {
   "cell_type": "code",
   "execution_count": 168,
   "id": "71e3de19",
   "metadata": {},
   "outputs": [
    {
     "data": {
      "text/plain": [
       "0        INC\n",
       "1      YSRCP\n",
       "2        TDP\n",
       "3      YSRCP\n",
       "4      YSRCP\n",
       "       ...  \n",
       "538      TMC\n",
       "539      BJP\n",
       "540      BJP\n",
       "541      TMC\n",
       "542      TMC\n",
       "Name: Winning Party, Length: 543, dtype: object"
      ]
     },
     "execution_count": 168,
     "metadata": {},
     "output_type": "execute_result"
    }
   ],
   "source": [
    "for i in year:\n",
    "    if i == 2019:\n",
    "        dfs[i].rename(columns = {'Winner Party': 'Winning Party'}, inplace = True)\n",
    "dfs[2019]['Winning Party']"
   ]
  },
  {
   "cell_type": "code",
   "execution_count": 200,
   "id": "c16f2f92",
   "metadata": {},
   "outputs": [
    {
     "name": "stdout",
     "output_type": "stream",
     "text": [
      "{'SKM', 'MRP', 'SJP', 'ZPM', 'NCP-SP', 'TDP', 'DMK', 'ICS', 'PDP', 'JD(U)', 'AJSU', 'GNLF', 'JKPDP', 'JNP(S)', 'PWP', 'AC', 'INLD', 'HLD(R)', 'TRS', 'AAP', 'NCP', 'RLP', 'BVA', 'Independent', 'LS', 'JSP', 'ADC', 'MDMK', 'SAD', 'AIIC(S)', 'NPP', 'SSP', 'AITC', 'NLP', 'BBM', 'MNF', 'ASDC', 'HVC', 'AIRJP', 'AIIC(T)', 'KC(M)', 'RJD', 'RPI', 'TMC(M)', 'JKNC', 'HJCBL', 'AD', 'J.V.M (P)', 'M-COR', 'IPF', 'SHS', 'ICJ', 'NPC', 'SDF', 'BJD', 'MPVC', 'Indian Union Muslim League', 'SP', 'MIM', 'ABLTC', 'RLSP', 'IUML', 'SAP', 'JD', 'RSP', 'CPI', 'UMFA', 'RPI(A)', 'AIMIM', 'LJNSP', 'VPP', 'RLD', 'Nationalist Democratic Progressive Party', 'AINRC', 'HAM(S)', 'JKD', 'MUL', 'BNP', 'TD', 'KCJ', 'AIFB', 'JKN', 'HMS', 'JD(S)', 'FBL', 'JP', 'ASP(KR)', 'AGP', 'SS(UBT)', 'INC', 'VCK', 'LJP(RV)', 'UPPL', 'AD(S)', 'AIADMK', 'KCP', 'JMM', 'BOPF', 'JNP', 'HVP', 'SWP', 'CPI(M)', 'JD(G)', 'SJP(R)', 'IND', 'LJP', 'AUDF', 'PWPI', 'KEC', 'BAP', 'ICS(SCS)', 'UGDP', 'LKD', 'BSP', 'MSCP', 'BJP', 'IFDP', 'PMK', 'MAG', 'YSRCP', 'NPF'}\n"
     ]
    }
   ],
   "source": [
    "party_list = []\n",
    "for i in year:\n",
    "    for j in dfs[i]['Winning Party'].unique():\n",
    "        party_list.append(j)\n",
    "print(set(sorted(party_list)))\n",
    "    "
   ]
  },
  {
   "cell_type": "code",
   "execution_count": 201,
   "id": "c2186cde",
   "metadata": {},
   "outputs": [
    {
     "name": "stdout",
     "output_type": "stream",
     "text": [
      "121\n"
     ]
    }
   ],
   "source": [
    "print(len(sorted(set(party_list))))"
   ]
  },
  {
   "cell_type": "code",
   "execution_count": 202,
   "id": "1ffd4685",
   "metadata": {},
   "outputs": [],
   "source": [
    "party_alias = {\n",
    "    # —— National parties & major regionals ————————————————\n",
    "    \"Indian National Congress\"                       : \"INC\",\n",
    "    \"INC(U)\"                                         : \"INC\",\n",
    "    \"INC(I)\"                                         : \"INC\",\n",
    "    \"Indian Congress (Socialist)\"                    : \"ICS\",\n",
    "    \"Viduthalai Chiruthaigal Katchi\"                 : \"VCK\",\n",
    "    \"Bharatiya Janata Party\"                         : \"BJP\",\n",
    "    \"Communist Party of India (Marxist)\"             : \"CPI(M)\",\n",
    "    \"Communist Party of India\"                       : \"CPI\",\n",
    "    \"Revolutionary Socialist Party\"                  : \"RSP\",\n",
    "    \"Bahujan Samaj Party\"                            : \"BSP\",\n",
    "    \"Nationalist Congress Party\"                     : \"NCP\",\n",
    "    \"Janata Dal (United)\"                            : \"JD(U)\",\n",
    "    \"Janata Dal (Secular)\"                           : \"JD(S)\",\n",
    "    \"Janata Dal (G)\"                                 : \"JD(G)\",\n",
    "    \"Janata Dal\"                                     : \"JD\",\n",
    "    \"Samajwadi Party\"                                : \"SP\",\n",
    "    \"Lok Janshakti Party\"                            : \"LJP\",\n",
    "    \"LJP(RV)\"                                        : \"LJP(RV)\",   # keep Chirag‑faction separate\n",
    "    \"Rashtriya Loktantrik Party\"                     : \"RLP\",\n",
    "    \"Rashtriya Lok Samata Party\"                     : \"RLSP\",\n",
    "    \"Rashtriya Janata Dal\"                           : \"RJD\",\n",
    "    \"Rashtriya Loktantrik Party\"                     : \"RLP\",\n",
    "\n",
    "    # —— Congress break‑away factions (merged back) ————————\n",
    "    \"AIIC(S)\"                                        : \"AIIC(S)\",\n",
    "    \"AIIC(T)\"                                        : \"AIIC(T)\",\n",
    "    \"HVC\"                                            : \"HVC\",       # Himachal Vikas Congress\n",
    "    \"HVP\"                                            : \"HVP\",       # Haryana Vikas Party\n",
    "    \"MSCP\"                                           : \"MSCP\",      # Manipur State Congress Party\n",
    "\n",
    "    # —— Trinamool / Tamil Maanila Congress ————————————\n",
    "    \"TMC\"                                            : \"TMC(M)\",    # map bare “TMC” to Moopanar faction\n",
    "    \"TMC(M)\"                                         : \"TMC(M)\",\n",
    "    \"WBTC\"                                           : \"AITC\",      # West Bengal Trinamool → AITC\n",
    "    \"AITC\"                                           : \"AITC\",\n",
    "\n",
    "    # —— Dravidian parties ————————————————————————————\n",
    "    \"All India Anna Dravida Munnetra Kazhagam\"       : \"AIADMK\",\n",
    "    \"AIADMK\"                                         : \"AIADMK\",\n",
    "    \"ADMK\"                                           : \"AIADMK\",\n",
    "    \"AIDMK\"                                          : \"AIADMK\",\n",
    "    \"ADK\"                                            : \"AIADMK\",\n",
    "    \"Dravida Munnetra Kazhagam\"                      : \"DMK\",\n",
    "\n",
    "    # —— YSR Congress ————————————————————————————————\n",
    "    \"YSRC\"                                           : \"YSRCP\",\n",
    "    \"YSRCP\"                                          : \"YSRCP\",\n",
    "\n",
    "    # —— Shiv Sena variants ————————————————————————————\n",
    "    \"Shiromani Akali Dal\"                            : \"SAD\",\n",
    "    \"SAD(M)\"                                         : \"SAD\",       # Mann faction later reunited\n",
    "    \"Shiv Sena\"                                      : \"SHS\",       # SHS = Sena’s ECI code\n",
    "    \"SS\"                                             : \"SHS\",\n",
    "\n",
    "    # —— Regional state parties ——————————————————————————\n",
    "    \"Telangana Rashtra Samithi\"                      : \"TRS\",\n",
    "    \"All Jharkhand Students Union\"                   : \"AJSU\",\n",
    "    \"Jharkhand Mukti Morcha\"                         : \"JMM\",\n",
    "    \"Kerala Congress (M)\"                            : \"KC(M)\",\n",
    "    \"KCM\"                                            : \"KC(M)\",\n",
    "    \"KEC(M)\"                                         : \"KC(M)\",\n",
    "    \"KEC\"                                            : \"KC(M)\",\n",
    "    \"KC(M)\"                                          : \"KC(M)\",\n",
    "    \"Janata Vikas Morcha (Prajatantrik)\"             : \"J.V.M (P)\",\n",
    "    \"JVM\"                                            : \"J.V.M (P)\",\n",
    "    \"All India United Democratic Front\"              : \"AUDF\",\n",
    "    \"National People's Party\"                        : \"NPP\",\n",
    "    \"Naga People's Front\"                            : \"NPF\",\n",
    "    \"Mizo National Front\"                            : \"MNF\",\n",
    "    \"Sikkim Krantikari Morcha\"                       : \"SKM\",\n",
    "    \"Sikkim Democratic Front\"                        : \"SDF\",\n",
    "    \"Shiromani Akali Dal\"                            : \"SAD\",\n",
    "    \"AIADMK\"                                         : \"AIADMK\",    # reaffirm — already canonical\n",
    "    \"Apna Dal (Sonelal)\"                             : \"AD(S)\",\n",
    "    \"All India Majlis-e-Ittehadul Muslimeen\"         : \"AIMIM\",\n",
    "    \"Aam Aadmi Party\"                                : \"AAP\",\n",
    "\n",
    "    # —— Jammu & Kashmir parties ————————————————————\n",
    "    \"Jammu & Kashmir National Conference\"            : \"JKNC\",\n",
    "    \"J&KNC\"                                          : \"JKNC\",\n",
    "\n",
    "    # —— Others obvious duplicates ————————————————————\n",
    "    \"Lok Shakti\"                                     : \"LS\",\n",
    "    \"Biju Janata Dal\"                                : \"BJD\",\n",
    "    \"Biju Janata Dal\"                                : \"BJD\",\n",
    "    \"Biju Janata Dal\"                                : \"BJD\",       # duplicates are harmless\n",
    "    'CPI': 'CPI', \n",
    "    'CPI(M)' : 'CPI', \n",
    "    'CPI(ML)(L)': 'CPI', \n",
    "    'CPI(ML)L' : 'CPI', \n",
    "    'CPM' : 'CPI'\n",
    "}\n",
    "for i in year:\n",
    "    dfs[i][\"Winning Party\"] = dfs[i]['Winning Party'].replace(party_alias)"
   ]
  },
  {
   "cell_type": "code",
   "execution_count": 203,
   "id": "f41a0e4d",
   "metadata": {},
   "outputs": [
    {
     "name": "stdout",
     "output_type": "stream",
     "text": [
      "119\n",
      "['AAP', 'ABLTC', 'AC', 'AD', 'AD(S)', 'ADC', 'AGP', 'AIADMK', 'AIFB', 'AIIC(S)', 'AIIC(T)', 'AIMIM', 'AINRC', 'AIRJP', 'AITC', 'AJSU', 'ASDC', 'ASP(KR)', 'AUDF', 'BAP', 'BBM', 'BJD', 'BJP', 'BNP', 'BOPF', 'BSP', 'BVA', 'CPI', 'DMK', 'FBL', 'GNLF', 'HAM(S)', 'HJCBL', 'HLD(R)', 'HMS', 'HVC', 'HVP', 'ICJ', 'ICS', 'ICS(SCS)', 'IFDP', 'INC', 'IND', 'INLD', 'IPF', 'IUML', 'Independent', 'Indian Union Muslim League', 'J.V.M (P)', 'JD', 'JD(G)', 'JD(S)', 'JD(U)', 'JKD', 'JKN', 'JKNC', 'JKPDP', 'JMM', 'JNP', 'JNP(S)', 'JP', 'JSP', 'KC(M)', 'KCJ', 'KCP', 'LJNSP', 'LJP', 'LJP(RV)', 'LKD', 'LS', 'M-COR', 'MAG', 'MDMK', 'MIM', 'MNF', 'MPVC', 'MRP', 'MSCP', 'MUL', 'NCP', 'NCP-SP', 'NLP', 'NPC', 'NPF', 'NPP', 'Nationalist Democratic Progressive Party', 'PDP', 'PMK', 'PWP', 'PWPI', 'RJD', 'RLD', 'RLP', 'RLSP', 'RPI', 'RPI(A)', 'RSP', 'SAD', 'SAP', 'SDF', 'SHS', 'SJP', 'SJP(R)', 'SKM', 'SP', 'SS(UBT)', 'SSP', 'SWP', 'TD', 'TDP', 'TMC(M)', 'TRS', 'UGDP', 'UMFA', 'UPPL', 'VCK', 'VPP', 'YSRCP', 'ZPM']\n"
     ]
    }
   ],
   "source": [
    "party_list = []\n",
    "for i in year:\n",
    "    for j in dfs[i]['Winning Party'].unique():\n",
    "        party_list.append(j)\n",
    "print(len(sorted(set(party_list))))\n",
    "print(sorted(set(party_list)))"
   ]
  },
  {
   "cell_type": "code",
   "execution_count": 204,
   "id": "e6744c22",
   "metadata": {},
   "outputs": [],
   "source": [
    "for i in year:\n",
    "    dfs[i].to_csv(f'/Users/badrinathsanagavaram/Desktop/Election Data Analysis/Data/transformed-data/{i}-transformed-data.csv')"
   ]
  },
  {
   "cell_type": "code",
   "execution_count": 205,
   "id": "539ee6af",
   "metadata": {},
   "outputs": [],
   "source": [
    "year_wise_performance = {}\n",
    "for i in year: \n",
    "   performance = dfs[i].groupby('Winning Party')['Winning Party'].count().sort_values(ascending = False).to_dict()\n",
    "   year_wise_performance[i] = performance"
   ]
  },
  {
   "cell_type": "code",
   "execution_count": 207,
   "id": "b6d46784",
   "metadata": {},
   "outputs": [
    {
     "data": {
      "text/html": [
       "<div>\n",
       "<style scoped>\n",
       "    .dataframe tbody tr th:only-of-type {\n",
       "        vertical-align: middle;\n",
       "    }\n",
       "\n",
       "    .dataframe tbody tr th {\n",
       "        vertical-align: top;\n",
       "    }\n",
       "\n",
       "    .dataframe thead th {\n",
       "        text-align: right;\n",
       "    }\n",
       "</style>\n",
       "<table border=\"1\" class=\"dataframe\">\n",
       "  <thead>\n",
       "    <tr style=\"text-align: right;\">\n",
       "      <th></th>\n",
       "      <th>1980</th>\n",
       "      <th>1984</th>\n",
       "      <th>1989</th>\n",
       "      <th>1991</th>\n",
       "      <th>1996</th>\n",
       "      <th>1998</th>\n",
       "      <th>1999</th>\n",
       "      <th>2004</th>\n",
       "      <th>2009</th>\n",
       "      <th>2014</th>\n",
       "      <th>2019</th>\n",
       "      <th>2024</th>\n",
       "    </tr>\n",
       "  </thead>\n",
       "  <tbody>\n",
       "    <tr>\n",
       "      <th>BJP</th>\n",
       "      <td>3.0</td>\n",
       "      <td>2.0</td>\n",
       "      <td>85.0</td>\n",
       "      <td>121.0</td>\n",
       "      <td>165.0</td>\n",
       "      <td>183.0</td>\n",
       "      <td>186.0</td>\n",
       "      <td>145.0</td>\n",
       "      <td>118.0</td>\n",
       "      <td>282.0</td>\n",
       "      <td>303.0</td>\n",
       "      <td>239.0</td>\n",
       "    </tr>\n",
       "    <tr>\n",
       "      <th>INC</th>\n",
       "      <td>378.0</td>\n",
       "      <td>418.0</td>\n",
       "      <td>197.0</td>\n",
       "      <td>238.0</td>\n",
       "      <td>141.0</td>\n",
       "      <td>141.0</td>\n",
       "      <td>120.0</td>\n",
       "      <td>158.0</td>\n",
       "      <td>210.0</td>\n",
       "      <td>44.0</td>\n",
       "      <td>52.0</td>\n",
       "      <td>99.0</td>\n",
       "    </tr>\n",
       "    <tr>\n",
       "      <th>TDP</th>\n",
       "      <td>NaN</td>\n",
       "      <td>30.0</td>\n",
       "      <td>2.0</td>\n",
       "      <td>13.0</td>\n",
       "      <td>17.0</td>\n",
       "      <td>12.0</td>\n",
       "      <td>30.0</td>\n",
       "      <td>5.0</td>\n",
       "      <td>6.0</td>\n",
       "      <td>16.0</td>\n",
       "      <td>3.0</td>\n",
       "      <td>16.0</td>\n",
       "    </tr>\n",
       "    <tr>\n",
       "      <th>YSRCP</th>\n",
       "      <td>NaN</td>\n",
       "      <td>NaN</td>\n",
       "      <td>NaN</td>\n",
       "      <td>NaN</td>\n",
       "      <td>NaN</td>\n",
       "      <td>NaN</td>\n",
       "      <td>NaN</td>\n",
       "      <td>NaN</td>\n",
       "      <td>4.0</td>\n",
       "      <td>9.0</td>\n",
       "      <td>22.0</td>\n",
       "      <td>4.0</td>\n",
       "    </tr>\n",
       "  </tbody>\n",
       "</table>\n",
       "</div>"
      ],
      "text/plain": [
       "        1980   1984   1989   1991   1996   1998   1999   2004   2009   2014  \\\n",
       "BJP      3.0    2.0   85.0  121.0  165.0  183.0  186.0  145.0  118.0  282.0   \n",
       "INC    378.0  418.0  197.0  238.0  141.0  141.0  120.0  158.0  210.0   44.0   \n",
       "TDP      NaN   30.0    2.0   13.0   17.0   12.0   30.0    5.0    6.0   16.0   \n",
       "YSRCP    NaN    NaN    NaN    NaN    NaN    NaN    NaN    NaN    4.0    9.0   \n",
       "\n",
       "        2019   2024  \n",
       "BJP    303.0  239.0  \n",
       "INC     52.0   99.0  \n",
       "TDP      3.0   16.0  \n",
       "YSRCP   22.0    4.0  "
      ]
     },
     "execution_count": 207,
     "metadata": {},
     "output_type": "execute_result"
    }
   ],
   "source": [
    "pd.DataFrame(year_wise_performance).loc[['BJP','INC','TDP','YSRCP']]"
   ]
  },
  {
   "cell_type": "code",
   "execution_count": 208,
   "id": "47b7c581",
   "metadata": {},
   "outputs": [],
   "source": [
    "for i in year:\n",
    "    dfs[i].to_csv(f'/Users/badrinathsanagavaram/Desktop/Election Data Analysis/Data/transformed-data-backup/{i}-backup-data.csv')"
   ]
  },
  {
   "cell_type": "code",
   "execution_count": null,
   "id": "049e5e5a",
   "metadata": {},
   "outputs": [],
   "source": []
  }
 ],
 "metadata": {
  "kernelspec": {
   "display_name": "base",
   "language": "python",
   "name": "python3"
  },
  "language_info": {
   "codemirror_mode": {
    "name": "ipython",
    "version": 3
   },
   "file_extension": ".py",
   "mimetype": "text/x-python",
   "name": "python",
   "nbconvert_exporter": "python",
   "pygments_lexer": "ipython3",
   "version": "3.11.5"
  }
 },
 "nbformat": 4,
 "nbformat_minor": 5
}
