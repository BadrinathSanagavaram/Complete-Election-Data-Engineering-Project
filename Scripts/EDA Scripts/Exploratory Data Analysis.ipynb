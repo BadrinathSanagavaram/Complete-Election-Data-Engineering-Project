{
 "cells": [
  {
   "cell_type": "code",
   "execution_count": 1,
   "id": "2f2ec23b",
   "metadata": {},
   "outputs": [],
   "source": [
    "import pandas as pd\n",
    "import numpy as np\n",
    "from matplotlib import pyplot as plt\n",
    "import seaborn as sns"
   ]
  },
  {
   "cell_type": "code",
   "execution_count": 3,
   "id": "02023df5",
   "metadata": {},
   "outputs": [
    {
     "data": {
      "text/html": [
       "<div>\n",
       "<style scoped>\n",
       "    .dataframe tbody tr th:only-of-type {\n",
       "        vertical-align: middle;\n",
       "    }\n",
       "\n",
       "    .dataframe tbody tr th {\n",
       "        vertical-align: top;\n",
       "    }\n",
       "\n",
       "    .dataframe thead th {\n",
       "        text-align: right;\n",
       "    }\n",
       "</style>\n",
       "<table border=\"1\" class=\"dataframe\">\n",
       "  <thead>\n",
       "    <tr style=\"text-align: right;\">\n",
       "      <th></th>\n",
       "      <th>Unnamed: 0</th>\n",
       "      <th>State</th>\n",
       "      <th>Name</th>\n",
       "      <th>Type</th>\n",
       "      <th>Winning Candidate</th>\n",
       "      <th>Winning Party</th>\n",
       "      <th>Winning Percentage</th>\n",
       "      <th>Winner's Votes</th>\n",
       "      <th>Runner Up Candidate</th>\n",
       "      <th>Runner Up Party</th>\n",
       "      <th>Runner Up Percentage</th>\n",
       "      <th>Runner Up Votes</th>\n",
       "      <th>Margin %</th>\n",
       "      <th>Margin Votes</th>\n",
       "    </tr>\n",
       "  </thead>\n",
       "  <tbody>\n",
       "    <tr>\n",
       "      <th>0</th>\n",
       "      <td>0</td>\n",
       "      <td>Andhra Pradesh</td>\n",
       "      <td>Srikakulam</td>\n",
       "      <td>OC</td>\n",
       "      <td>Kinjarapu Ram Mohan Naidu</td>\n",
       "      <td>TDP</td>\n",
       "      <td>61</td>\n",
       "      <td>754328</td>\n",
       "      <td>Perada Tilak</td>\n",
       "      <td>YSRCP</td>\n",
       "      <td>34</td>\n",
       "      <td>426427</td>\n",
       "      <td>26</td>\n",
       "      <td>327901</td>\n",
       "    </tr>\n",
       "    <tr>\n",
       "      <th>1</th>\n",
       "      <td>1</td>\n",
       "      <td>Andhra Pradesh</td>\n",
       "      <td>Vizianagaram</td>\n",
       "      <td>OC</td>\n",
       "      <td>Appalanaidu Kalisetti</td>\n",
       "      <td>TDP</td>\n",
       "      <td>57</td>\n",
       "      <td>743113</td>\n",
       "      <td>Bellana Chandra Sekhar</td>\n",
       "      <td>YSRCP</td>\n",
       "      <td>38</td>\n",
       "      <td>493762</td>\n",
       "      <td>19</td>\n",
       "      <td>249351</td>\n",
       "    </tr>\n",
       "    <tr>\n",
       "      <th>2</th>\n",
       "      <td>2</td>\n",
       "      <td>Andhra Pradesh</td>\n",
       "      <td>Visakhapatnam</td>\n",
       "      <td>OC</td>\n",
       "      <td>Mathukumilli Bharat</td>\n",
       "      <td>TDP</td>\n",
       "      <td>65</td>\n",
       "      <td>907467</td>\n",
       "      <td>Botsa Jhansi Lakshmi</td>\n",
       "      <td>YSRCP</td>\n",
       "      <td>29</td>\n",
       "      <td>403220</td>\n",
       "      <td>36</td>\n",
       "      <td>504247</td>\n",
       "    </tr>\n",
       "    <tr>\n",
       "      <th>3</th>\n",
       "      <td>3</td>\n",
       "      <td>Andhra Pradesh</td>\n",
       "      <td>Anakapalli</td>\n",
       "      <td>OC</td>\n",
       "      <td>C. M. Ramesh</td>\n",
       "      <td>BJP</td>\n",
       "      <td>57</td>\n",
       "      <td>762069</td>\n",
       "      <td>Budi Mutyala Naidu</td>\n",
       "      <td>YSRCP</td>\n",
       "      <td>35</td>\n",
       "      <td>465539</td>\n",
       "      <td>22</td>\n",
       "      <td>296530</td>\n",
       "    </tr>\n",
       "    <tr>\n",
       "      <th>4</th>\n",
       "      <td>4</td>\n",
       "      <td>Andhra Pradesh</td>\n",
       "      <td>Kakinada</td>\n",
       "      <td>OC</td>\n",
       "      <td>Tangella Uday Srinivas</td>\n",
       "      <td>JSP</td>\n",
       "      <td>54</td>\n",
       "      <td>729699</td>\n",
       "      <td>Chalamalasetti Sunil</td>\n",
       "      <td>YSRCP</td>\n",
       "      <td>37</td>\n",
       "      <td>500208</td>\n",
       "      <td>17</td>\n",
       "      <td>229491</td>\n",
       "    </tr>\n",
       "  </tbody>\n",
       "</table>\n",
       "</div>"
      ],
      "text/plain": [
       "   Unnamed: 0           State           Name Type          Winning Candidate  \\\n",
       "0           0  Andhra Pradesh     Srikakulam   OC  Kinjarapu Ram Mohan Naidu   \n",
       "1           1  Andhra Pradesh   Vizianagaram   OC      Appalanaidu Kalisetti   \n",
       "2           2  Andhra Pradesh  Visakhapatnam   OC        Mathukumilli Bharat   \n",
       "3           3  Andhra Pradesh     Anakapalli   OC               C. M. Ramesh   \n",
       "4           4  Andhra Pradesh       Kakinada   OC     Tangella Uday Srinivas   \n",
       "\n",
       "  Winning Party  Winning Percentage  Winner's Votes     Runner Up Candidate  \\\n",
       "0           TDP                  61          754328            Perada Tilak   \n",
       "1           TDP                  57          743113  Bellana Chandra Sekhar   \n",
       "2           TDP                  65          907467    Botsa Jhansi Lakshmi   \n",
       "3           BJP                  57          762069      Budi Mutyala Naidu   \n",
       "4           JSP                  54          729699    Chalamalasetti Sunil   \n",
       "\n",
       "  Runner Up Party  Runner Up Percentage  Runner Up Votes  Margin %  \\\n",
       "0           YSRCP                    34           426427        26   \n",
       "1           YSRCP                    38           493762        19   \n",
       "2           YSRCP                    29           403220        36   \n",
       "3           YSRCP                    35           465539        22   \n",
       "4           YSRCP                    37           500208        17   \n",
       "\n",
       "   Margin Votes  \n",
       "0        327901  \n",
       "1        249351  \n",
       "2        504247  \n",
       "3        296530  \n",
       "4        229491  "
      ]
     },
     "execution_count": 3,
     "metadata": {},
     "output_type": "execute_result"
    }
   ],
   "source": [
    "df = pd.read_csv('/Users/badrinathsanagavaram/Desktop/Election Data Analysis/Data/transformed-data/2024-transformed-data.csv')\n",
    "df.head(5)"
   ]
  },
  {
   "cell_type": "code",
   "execution_count": 4,
   "id": "cd7a23c1",
   "metadata": {},
   "outputs": [],
   "source": [
    "df.drop(columns='Unnamed: 0', inplace=True)"
   ]
  },
  {
   "cell_type": "code",
   "execution_count": null,
   "id": "8df332c8",
   "metadata": {},
   "outputs": [
    {
     "data": {
      "text/plain": [
       "State                   object\n",
       "Name                    object\n",
       "Type                    object\n",
       "Winning Candidate       object\n",
       "Winning Party           object\n",
       "Winning Percentage       int64\n",
       "Winner's Votes           int64\n",
       "Runner Up Candidate     object\n",
       "Runner Up Party         object\n",
       "Runner Up Percentage     int64\n",
       "Runner Up Votes          int64\n",
       "Margin %                 int64\n",
       "Margin Votes             int64\n",
       "dtype: object"
      ]
     },
     "execution_count": 4,
     "metadata": {},
     "output_type": "execute_result"
    }
   ],
   "source": [
    "df.dtypes"
   ]
  },
  {
   "cell_type": "code",
   "execution_count": 6,
   "id": "1c5f0300",
   "metadata": {},
   "outputs": [
    {
     "data": {
      "text/plain": [
       "Index(['State', 'Name', 'Type', 'Winning Candidate', 'Winning Party',\n",
       "       'Winning Percentage', 'Winner's Votes', 'Runner Up Candidate',\n",
       "       'Runner Up Party', 'Runner Up Percentage', 'Runner Up Votes',\n",
       "       'Margin %', 'Margin Votes'],\n",
       "      dtype='object')"
      ]
     },
     "execution_count": 6,
     "metadata": {},
     "output_type": "execute_result"
    }
   ],
   "source": [
    "df.columns"
   ]
  },
  {
   "cell_type": "markdown",
   "id": "313b716e",
   "metadata": {},
   "source": [
    "## Percentage of Valid Votes Polled in the General Election 2024"
   ]
  },
  {
   "cell_type": "code",
   "execution_count": 5,
   "id": "d890b9b5",
   "metadata": {},
   "outputs": [
    {
     "data": {
      "text/plain": [
       "564805721"
      ]
     },
     "execution_count": 5,
     "metadata": {},
     "output_type": "execute_result"
    }
   ],
   "source": [
    "total_number_of_winner_votes = df['Winner\\'s Votes'].sum()\n",
    "total_number_of_runner_up_votes = df['Runner Up Votes'].sum()\n",
    "total_number_of_votes_polled = total_number_of_runner_up_votes + total_number_of_winner_votes\n",
    "total_number_of_votes_polled"
   ]
  },
  {
   "cell_type": "code",
   "execution_count": 6,
   "id": "1e8fe087",
   "metadata": {},
   "outputs": [
    {
     "data": {
      "text/plain": [
       "57.75312997729694"
      ]
     },
     "execution_count": 6,
     "metadata": {},
     "output_type": "execute_result"
    }
   ],
   "source": [
    "registered_voters_in_2024 = 977965560\n",
    "voting_percentage = (total_number_of_votes_polled/registered_voters_in_2024) * 100\n",
    "voting_percentage"
   ]
  },
  {
   "cell_type": "code",
   "execution_count": 7,
   "id": "68b40503",
   "metadata": {},
   "outputs": [],
   "source": [
    "state_wise_votes = df.groupby('State')[['Winner\\'s Votes', 'Runner Up Votes']].sum().reset_index()"
   ]
  },
  {
   "cell_type": "code",
   "execution_count": 8,
   "id": "5400a992",
   "metadata": {},
   "outputs": [],
   "source": [
    "state_wise_votes['Total_votes_polled_for_2_parties'] = state_wise_votes['Winner\\'s Votes'] + state_wise_votes['Runner Up Votes']"
   ]
  },
  {
   "cell_type": "markdown",
   "id": "b96204d3",
   "metadata": {},
   "source": [
    "## What is the percentage of Votes per State"
   ]
  },
  {
   "cell_type": "code",
   "execution_count": 9,
   "id": "65709ec9",
   "metadata": {},
   "outputs": [
    {
     "data": {
      "text/html": [
       "<div>\n",
       "<style scoped>\n",
       "    .dataframe tbody tr th:only-of-type {\n",
       "        vertical-align: middle;\n",
       "    }\n",
       "\n",
       "    .dataframe tbody tr th {\n",
       "        vertical-align: top;\n",
       "    }\n",
       "\n",
       "    .dataframe thead th {\n",
       "        text-align: right;\n",
       "    }\n",
       "</style>\n",
       "<table border=\"1\" class=\"dataframe\">\n",
       "  <thead>\n",
       "    <tr style=\"text-align: right;\">\n",
       "      <th></th>\n",
       "      <th>State</th>\n",
       "      <th>Winner's Votes</th>\n",
       "      <th>Runner Up Votes</th>\n",
       "      <th>Total_votes_polled_for_2_parties</th>\n",
       "    </tr>\n",
       "  </thead>\n",
       "  <tbody>\n",
       "    <tr>\n",
       "      <th>0</th>\n",
       "      <td>Andaman and Nicobar Islands</td>\n",
       "      <td>102436</td>\n",
       "      <td>78040</td>\n",
       "      <td>180476</td>\n",
       "    </tr>\n",
       "    <tr>\n",
       "      <th>1</th>\n",
       "      <td>Andhra Pradesh</td>\n",
       "      <td>18242107</td>\n",
       "      <td>13112124</td>\n",
       "      <td>31354231</td>\n",
       "    </tr>\n",
       "    <tr>\n",
       "      <th>2</th>\n",
       "      <td>Arunachal Pradesh</td>\n",
       "      <td>350998</td>\n",
       "      <td>219839</td>\n",
       "      <td>570837</td>\n",
       "    </tr>\n",
       "    <tr>\n",
       "      <th>3</th>\n",
       "      <td>Assam</td>\n",
       "      <td>10686721</td>\n",
       "      <td>6942378</td>\n",
       "      <td>17629099</td>\n",
       "    </tr>\n",
       "    <tr>\n",
       "      <th>4</th>\n",
       "      <td>Bihar</td>\n",
       "      <td>20193954</td>\n",
       "      <td>16222309</td>\n",
       "      <td>36416263</td>\n",
       "    </tr>\n",
       "  </tbody>\n",
       "</table>\n",
       "</div>"
      ],
      "text/plain": [
       "                         State  Winner's Votes  Runner Up Votes  \\\n",
       "0  Andaman and Nicobar Islands          102436            78040   \n",
       "1               Andhra Pradesh        18242107         13112124   \n",
       "2            Arunachal Pradesh          350998           219839   \n",
       "3                        Assam        10686721          6942378   \n",
       "4                        Bihar        20193954         16222309   \n",
       "\n",
       "   Total_votes_polled_for_2_parties  \n",
       "0                            180476  \n",
       "1                          31354231  \n",
       "2                            570837  \n",
       "3                          17629099  \n",
       "4                          36416263  "
      ]
     },
     "execution_count": 9,
     "metadata": {},
     "output_type": "execute_result"
    }
   ],
   "source": [
    "eligible_voters_2024_by_state = {\n",
    "    \"Andaman and Nicobar Islands\": 315745,\n",
    "    \"Andhra Pradesh\": 41401887,\n",
    "    \"Arunachal Pradesh\": 898442,\n",
    "    \"Assam\": 24572114,\n",
    "    \"Bihar\": 77259579,\n",
    "    \"Chandigarh\": 660552,\n",
    "    \"Chhattisgarh\": 20678667,\n",
    "    \"Dadra and Nagar Haveli and Daman and Diu\": 417236,\n",
    "    \"Goa\": 1179644,\n",
    "    \"Gujarat\": 48009945,\n",
    "    \"Haryana\": 20187911,\n",
    "    \"Himachal Pradesh\": 5711969,\n",
    "    \"Jammu and Kashmir\": 8802348,\n",
    "    \"Jharkhand\": 25877892,\n",
    "    \"Karnataka\": 54772332,\n",
    "    \"Kerala\": 27807008,\n",
    "    \"Ladakh\": 190576,\n",
    "    \"Lakshadweep\": 57953,\n",
    "    \"Madhya Pradesh\": 56668852,\n",
    "    \"Maharashtra\": 93061760,\n",
    "    \"Manipur\": 2051357,\n",
    "    \"Meghalaya\": 2230451,\n",
    "    \"Mizoram\": 861327,\n",
    "    \"Nagaland\": 1325383,\n",
    "    \"Delhi\": 15214638,\n",
    "    \"Odisha\": 33716965,\n",
    "    \"Puducherry\": 1024024,\n",
    "    \"Punjab\": 21567196,\n",
    "    \"Rajasthan\": 53508010,\n",
    "    \"Sikkim\": 466643,\n",
    "    \"Tamil Nadu\": 62404947,\n",
    "    \"Telangana\": 33232318,\n",
    "    \"Tripura\": 2870896,\n",
    "    \"Uttar Pradesh\": 154403112,\n",
    "    \"Uttarakhand\": 8431101,\n",
    "    \"West Bengal\": 76124780\n",
    "}\n",
    "state_wise_votes.head(5)"
   ]
  },
  {
   "cell_type": "code",
   "execution_count": 10,
   "id": "75c0799a",
   "metadata": {},
   "outputs": [],
   "source": [
    "state_wise_votes['eligible_voters_2024'] = state_wise_votes['State'].map(eligible_voters_2024_by_state)"
   ]
  },
  {
   "cell_type": "code",
   "execution_count": 11,
   "id": "87f0bb3f",
   "metadata": {},
   "outputs": [
    {
     "data": {
      "text/html": [
       "<div>\n",
       "<style scoped>\n",
       "    .dataframe tbody tr th:only-of-type {\n",
       "        vertical-align: middle;\n",
       "    }\n",
       "\n",
       "    .dataframe tbody tr th {\n",
       "        vertical-align: top;\n",
       "    }\n",
       "\n",
       "    .dataframe thead th {\n",
       "        text-align: right;\n",
       "    }\n",
       "</style>\n",
       "<table border=\"1\" class=\"dataframe\">\n",
       "  <thead>\n",
       "    <tr style=\"text-align: right;\">\n",
       "      <th></th>\n",
       "      <th>State</th>\n",
       "      <th>percentage_votes_polled</th>\n",
       "    </tr>\n",
       "  </thead>\n",
       "  <tbody>\n",
       "    <tr>\n",
       "      <th>17</th>\n",
       "      <td>Ladakh</td>\n",
       "      <td>53.866174</td>\n",
       "    </tr>\n",
       "  </tbody>\n",
       "</table>\n",
       "</div>"
      ],
      "text/plain": [
       "     State  percentage_votes_polled\n",
       "17  Ladakh                53.866174"
      ]
     },
     "execution_count": 11,
     "metadata": {},
     "output_type": "execute_result"
    }
   ],
   "source": [
    "state_wise_votes['percentage_votes_polled'] = (state_wise_votes['Total_votes_polled_for_2_parties']/state_wise_votes['eligible_voters_2024']) * 100\n",
    "filt =state_wise_votes['State'] == 'Ladakh'\n",
    "state_wise_votes.loc[filt, ['State', 'percentage_votes_polled']]"
   ]
  },
  {
   "cell_type": "markdown",
   "id": "d53028fe",
   "metadata": {},
   "source": [
    "## Top 5 States with Higest voting polling percentage for the 2 parties : \n",
    "### The below list indicates that the compitition in these 5 states is mostly between only 2 Parties and there is no 3rd Political alternative"
   ]
  },
  {
   "cell_type": "code",
   "execution_count": 12,
   "id": "e1228ff9",
   "metadata": {},
   "outputs": [
    {
     "data": {
      "text/html": [
       "<div>\n",
       "<style scoped>\n",
       "    .dataframe tbody tr th:only-of-type {\n",
       "        vertical-align: middle;\n",
       "    }\n",
       "\n",
       "    .dataframe tbody tr th {\n",
       "        vertical-align: top;\n",
       "    }\n",
       "\n",
       "    .dataframe thead th {\n",
       "        text-align: right;\n",
       "    }\n",
       "</style>\n",
       "<table border=\"1\" class=\"dataframe\">\n",
       "  <thead>\n",
       "    <tr style=\"text-align: right;\">\n",
       "      <th></th>\n",
       "      <th>State</th>\n",
       "      <th>percentage_votes_polled</th>\n",
       "    </tr>\n",
       "  </thead>\n",
       "  <tbody>\n",
       "    <tr>\n",
       "      <th>18</th>\n",
       "      <td>Lakshadweep</td>\n",
       "      <td>84.214795</td>\n",
       "    </tr>\n",
       "    <tr>\n",
       "      <th>32</th>\n",
       "      <td>Tripura</td>\n",
       "      <td>77.299178</td>\n",
       "    </tr>\n",
       "    <tr>\n",
       "      <th>1</th>\n",
       "      <td>Andhra Pradesh</td>\n",
       "      <td>75.731406</td>\n",
       "    </tr>\n",
       "    <tr>\n",
       "      <th>3</th>\n",
       "      <td>Assam</td>\n",
       "      <td>71.744332</td>\n",
       "    </tr>\n",
       "    <tr>\n",
       "      <th>26</th>\n",
       "      <td>Puducherry</td>\n",
       "      <td>69.870823</td>\n",
       "    </tr>\n",
       "  </tbody>\n",
       "</table>\n",
       "</div>"
      ],
      "text/plain": [
       "             State  percentage_votes_polled\n",
       "18     Lakshadweep                84.214795\n",
       "32         Tripura                77.299178\n",
       "1   Andhra Pradesh                75.731406\n",
       "3            Assam                71.744332\n",
       "26      Puducherry                69.870823"
      ]
     },
     "execution_count": 12,
     "metadata": {},
     "output_type": "execute_result"
    },
    {
     "data": {
      "image/png": "[encoded data removed]",
      "text/plain": [
       "<Figure size 640x480 with 1 Axes>"
      ]
     },
     "metadata": {},
     "output_type": "display_data"
    }
   ],
   "source": [
    "state_wise_votes[['State', 'percentage_votes_polled']].sort_values(by='percentage_votes_polled', ascending=False).set_index('State').head(5).plot(kind='barh', legend=False)\n",
    "state_wise_votes[['State', 'percentage_votes_polled']].sort_values(by='percentage_votes_polled', ascending=False).head(5)"
   ]
  },
  {
   "cell_type": "markdown",
   "id": "ce7838eb",
   "metadata": {},
   "source": [
    "## What are the number of seats won by each party"
   ]
  },
  {
   "cell_type": "code",
   "execution_count": null,
   "id": "e66374c2",
   "metadata": {},
   "outputs": [
    {
     "data": {
      "text/plain": [
       "<Axes: ylabel='count'>"
      ]
     },
     "execution_count": 13,
     "metadata": {},
     "output_type": "execute_result"
    },
    {
     "data": {
      "image/png": "[encoded data removed]",
      "text/plain": [
       "<Figure size 1000x600 with 1 Axes>"
      ]
     },
     "metadata": {},
     "output_type": "display_data"
    }
   ],
   "source": [
    "pd.set_option('Display.max_rows', 50)\n",
    "df.groupby('Winning Party')['Winning Party'].count().reset_index(name = 'count').sort_values(by = 'count', ascending = False).set_index('Winning Party').head(5).plot(kind = 'pie', y = 'count' ,x = 'Winning Party' , figsize = (10,6), legend = 'count')"
   ]
  },
  {
   "cell_type": "code",
   "execution_count": null,
   "id": "15243356",
   "metadata": {},
   "outputs": [
    {
     "data": {
      "text/plain": [
       "<Axes: ylabel='Winning Party'>"
      ]
     },
     "execution_count": 14,
     "metadata": {},
     "output_type": "execute_result"
    },
    {
     "data": {
      "image/png": "[encoded data removed]",
      "text/plain": [
       "<Figure size 1000x600 with 1 Axes>"
      ]
     },
     "metadata": {},
     "output_type": "display_data"
    }
   ],
   "source": [
    "df.groupby('Winning Party')['Winning Party'].count().reset_index(name = 'count').sort_values(by = 'count', ascending = False).set_index('Winning Party').head(10).plot(kind = 'barh' , figsize = (10,6), legend = 'False')"
   ]
  },
  {
   "cell_type": "code",
   "execution_count": 33,
   "id": "7e6fd40a",
   "metadata": {},
   "outputs": [
    {
     "data": {
      "text/plain": [
       "<Axes: xlabel='Margin %', ylabel='Winning Percentage'>"
      ]
     },
     "execution_count": 33,
     "metadata": {},
     "output_type": "execute_result"
    },
    {
     "data": {
      "image/png": "[encoded data removed]",
      "text/plain": [
       "<Figure size 640x480 with 1 Axes>"
      ]
     },
     "metadata": {},
     "output_type": "display_data"
    }
   ],
   "source": [
    "df[['Margin %', 'Winning Percentage']].plot(kind='scatter', x= 'Margin %', y = 'Winning Percentage')"
   ]
  },
  {
   "cell_type": "code",
   "execution_count": 35,
   "id": "92aa9017",
   "metadata": {},
   "outputs": [
    {
     "data": {
      "text/html": [
       "<div>\n",
       "<style scoped>\n",
       "    .dataframe tbody tr th:only-of-type {\n",
       "        vertical-align: middle;\n",
       "    }\n",
       "\n",
       "    .dataframe tbody tr th {\n",
       "        vertical-align: top;\n",
       "    }\n",
       "\n",
       "    .dataframe thead th {\n",
       "        text-align: right;\n",
       "    }\n",
       "</style>\n",
       "<table border=\"1\" class=\"dataframe\">\n",
       "  <thead>\n",
       "    <tr style=\"text-align: right;\">\n",
       "      <th></th>\n",
       "      <th>State</th>\n",
       "      <th>Name</th>\n",
       "      <th>Winning Candidate</th>\n",
       "      <th>Winning Party</th>\n",
       "      <th>Margin Votes</th>\n",
       "      <th>Margin %</th>\n",
       "    </tr>\n",
       "  </thead>\n",
       "  <tbody>\n",
       "    <tr>\n",
       "      <th>218</th>\n",
       "      <td>Madhya Pradesh</td>\n",
       "      <td>Indore</td>\n",
       "      <td>Shankar Lalwani</td>\n",
       "      <td>BJP</td>\n",
       "      <td>1175092</td>\n",
       "      <td>75</td>\n",
       "    </tr>\n",
       "    <tr>\n",
       "      <th>25</th>\n",
       "      <td>Assam</td>\n",
       "      <td>Dhubri</td>\n",
       "      <td>Rakibul Hussain</td>\n",
       "      <td>INC</td>\n",
       "      <td>1012476</td>\n",
       "      <td>41</td>\n",
       "    </tr>\n",
       "    <tr>\n",
       "      <th>210</th>\n",
       "      <td>Madhya Pradesh</td>\n",
       "      <td>Vidisha</td>\n",
       "      <td>Shivraj Singh Chouhan</td>\n",
       "      <td>BJP</td>\n",
       "      <td>821408</td>\n",
       "      <td>56</td>\n",
       "    </tr>\n",
       "    <tr>\n",
       "      <th>117</th>\n",
       "      <td>Gujarat</td>\n",
       "      <td>Navsari</td>\n",
       "      <td>C. R. Patil</td>\n",
       "      <td>BJP</td>\n",
       "      <td>773551</td>\n",
       "      <td>57</td>\n",
       "    </tr>\n",
       "    <tr>\n",
       "      <th>99</th>\n",
       "      <td>Gujarat</td>\n",
       "      <td>Gandhinagar</td>\n",
       "      <td>Amit Shah</td>\n",
       "      <td>BJP</td>\n",
       "      <td>744716</td>\n",
       "      <td>56</td>\n",
       "    </tr>\n",
       "  </tbody>\n",
       "</table>\n",
       "</div>"
      ],
      "text/plain": [
       "              State         Name      Winning Candidate Winning Party  \\\n",
       "218  Madhya Pradesh       Indore        Shankar Lalwani           BJP   \n",
       "25            Assam       Dhubri        Rakibul Hussain           INC   \n",
       "210  Madhya Pradesh      Vidisha  Shivraj Singh Chouhan           BJP   \n",
       "117         Gujarat      Navsari            C. R. Patil           BJP   \n",
       "99          Gujarat  Gandhinagar              Amit Shah           BJP   \n",
       "\n",
       "     Margin Votes  Margin %  \n",
       "218       1175092        75  \n",
       "25        1012476        41  \n",
       "210        821408        56  \n",
       "117        773551        57  \n",
       "99         744716        56  "
      ]
     },
     "execution_count": 35,
     "metadata": {},
     "output_type": "execute_result"
    }
   ],
   "source": [
    "df[['State', 'Name', 'Winning Candidate' ,'Winning Party','Margin Votes', 'Margin %']].sort_values(by = 'Margin Votes', ascending= False).head(5)"
   ]
  },
  {
   "cell_type": "markdown",
   "id": "9f0d3504",
   "metadata": {},
   "source": [
    "## Top states with highest vote margins."
   ]
  },
  {
   "cell_type": "code",
   "execution_count": 40,
   "id": "adbbaf67",
   "metadata": {},
   "outputs": [
    {
     "data": {
      "text/html": [
       "<div>\n",
       "<style scoped>\n",
       "    .dataframe tbody tr th:only-of-type {\n",
       "        vertical-align: middle;\n",
       "    }\n",
       "\n",
       "    .dataframe tbody tr th {\n",
       "        vertical-align: top;\n",
       "    }\n",
       "\n",
       "    .dataframe thead th {\n",
       "        text-align: right;\n",
       "    }\n",
       "</style>\n",
       "<table border=\"1\" class=\"dataframe\">\n",
       "  <thead>\n",
       "    <tr style=\"text-align: right;\">\n",
       "      <th></th>\n",
       "      <th>State</th>\n",
       "      <th>Margin %</th>\n",
       "    </tr>\n",
       "  </thead>\n",
       "  <tbody>\n",
       "    <tr>\n",
       "      <th>32</th>\n",
       "      <td>Tripura</td>\n",
       "      <td>46.0</td>\n",
       "    </tr>\n",
       "    <tr>\n",
       "      <th>22</th>\n",
       "      <td>Meghalaya</td>\n",
       "      <td>29.0</td>\n",
       "    </tr>\n",
       "    <tr>\n",
       "      <th>10</th>\n",
       "      <td>Gujarat</td>\n",
       "      <td>29.0</td>\n",
       "    </tr>\n",
       "    <tr>\n",
       "      <th>19</th>\n",
       "      <td>Madhya Pradesh</td>\n",
       "      <td>27.0</td>\n",
       "    </tr>\n",
       "    <tr>\n",
       "      <th>34</th>\n",
       "      <td>Uttarakhand</td>\n",
       "      <td>26.0</td>\n",
       "    </tr>\n",
       "  </tbody>\n",
       "</table>\n",
       "</div>"
      ],
      "text/plain": [
       "             State  Margin %\n",
       "32         Tripura      46.0\n",
       "22       Meghalaya      29.0\n",
       "10         Gujarat      29.0\n",
       "19  Madhya Pradesh      27.0\n",
       "34     Uttarakhand      26.0"
      ]
     },
     "execution_count": 40,
     "metadata": {},
     "output_type": "execute_result"
    }
   ],
   "source": [
    "df.groupby('State')['Margin %'].median().reset_index().sort_values(by= 'Margin %', ascending= False).head(5)"
   ]
  },
  {
   "cell_type": "code",
   "execution_count": 42,
   "id": "43923773",
   "metadata": {},
   "outputs": [
    {
     "data": {
      "text/plain": [
       "<Axes: ylabel='State'>"
      ]
     },
     "execution_count": 42,
     "metadata": {},
     "output_type": "execute_result"
    },
    {
     "data": {
      "image/png": "[encoded data removed]",
      "text/plain": [
       "<Figure size 640x480 with 1 Axes>"
      ]
     },
     "metadata": {},
     "output_type": "display_data"
    }
   ],
   "source": [
    "df.groupby('State')['Margin %'].median().reset_index().sort_values(by= 'Margin %', ascending= False).set_index('State').head(5).plot(kind= \"barh\")"
   ]
  },
  {
   "cell_type": "markdown",
   "id": "2b06cca2",
   "metadata": {},
   "source": [
    "## Identify close contests (margin % < 5)."
   ]
  },
  {
   "cell_type": "code",
   "execution_count": 48,
   "id": "22c8122a",
   "metadata": {},
   "outputs": [
    {
     "data": {
      "text/plain": [
       "State\n",
       "Uttar Pradesh     39\n",
       "West Bengal       19\n",
       "Maharashtra       17\n",
       "Bihar             11\n",
       "Rajasthan         10\n",
       "Karnataka         10\n",
       "Punjab             8\n",
       "Chhattisgarh       6\n",
       "Haryana            6\n",
       "Odisha             6\n",
       "Andhra Pradesh     5\n",
       "Tamil Nadu         5\n",
       "Telangana          4\n",
       "Kerala             4\n",
       "Madhya Pradesh     2\n",
       "Assam              2\n",
       "Gujarat            2\n",
       "Jharkhand          1\n",
       "Goa                1\n",
       "Chandigarh         1\n",
       "Lakshadweep        1\n",
       "Name: count, dtype: int64"
      ]
     },
     "execution_count": 48,
     "metadata": {},
     "output_type": "execute_result"
    }
   ],
   "source": [
    "filt = df['Margin %'] <= 5\n",
    "df['State'].loc[filt].value_counts()"
   ]
  },
  {
   "cell_type": "code",
   "execution_count": 54,
   "id": "ef08b784",
   "metadata": {},
   "outputs": [
    {
     "data": {
      "text/plain": [
       "<Axes: ylabel='State'>"
      ]
     },
     "execution_count": 54,
     "metadata": {},
     "output_type": "execute_result"
    },
    {
     "data": {
      "image/png": "[encoded data removed]",
      "text/plain": [
       "<Figure size 640x480 with 1 Axes>"
      ]
     },
     "metadata": {},
     "output_type": "display_data"
    }
   ],
   "source": [
    "df['State'].loc[filt].value_counts().plot(kind='barh')"
   ]
  },
  {
   "cell_type": "code",
   "execution_count": 59,
   "id": "0613e10d",
   "metadata": {},
   "outputs": [
    {
     "data": {
      "text/plain": [
       "Winning Party\n",
       "BJP            65\n",
       "INC            36\n",
       "SP             17\n",
       "AITC            9\n",
       "YSRCP           4\n",
       "DMK             4\n",
       "NCP-SP          3\n",
       "SS              3\n",
       "CPI(M)          2\n",
       "JD(U)           2\n",
       "AAP             2\n",
       "SS(UBT)         2\n",
       "UPPL            1\n",
       "RJD             1\n",
       "JD(S)           1\n",
       "Independent     1\n",
       "RLD             1\n",
       "RLP             1\n",
       "CPI(ML)L        1\n",
       "SAD             1\n",
       "TDP             1\n",
       "AD(S)           1\n",
       "JMM             1\n",
       "Name: count, dtype: int64"
      ]
     },
     "execution_count": 59,
     "metadata": {},
     "output_type": "execute_result"
    }
   ],
   "source": [
    "filt = (df['Margin %'] <=5)\n",
    "df['Winning Party'].loc[filt].sort_values(ascending=False).value_counts()"
   ]
  },
  {
   "cell_type": "code",
   "execution_count": 58,
   "id": "b8b21f2b",
   "metadata": {},
   "outputs": [
    {
     "data": {
      "text/plain": [
       "<Axes: ylabel='Winning Party'>"
      ]
     },
     "execution_count": 58,
     "metadata": {},
     "output_type": "execute_result"
    },
    {
     "data": {
      "image/png": "[encoded data removed]",
      "text/plain": [
       "<Figure size 640x480 with 1 Axes>"
      ]
     },
     "metadata": {},
     "output_type": "display_data"
    }
   ],
   "source": [
    "df['Winning Party'].loc[filt].value_counts().sort_values(ascending=False).plot(kind='barh')"
   ]
  },
  {
   "cell_type": "markdown",
   "id": "a113667c",
   "metadata": {},
   "source": [
    "## Seats Won by Party By Reserved Seats"
   ]
  },
  {
   "cell_type": "code",
   "execution_count": 95,
   "id": "1e73e71e",
   "metadata": {},
   "outputs": [
    {
     "data": {
      "text/html": [
       "<div>\n",
       "<style scoped>\n",
       "    .dataframe tbody tr th:only-of-type {\n",
       "        vertical-align: middle;\n",
       "    }\n",
       "\n",
       "    .dataframe tbody tr th {\n",
       "        vertical-align: top;\n",
       "    }\n",
       "\n",
       "    .dataframe thead th {\n",
       "        text-align: right;\n",
       "    }\n",
       "</style>\n",
       "<table border=\"1\" class=\"dataframe\">\n",
       "  <thead>\n",
       "    <tr style=\"text-align: right;\">\n",
       "      <th></th>\n",
       "      <th>Winning Party</th>\n",
       "      <th>Type</th>\n",
       "      <th>Count</th>\n",
       "    </tr>\n",
       "  </thead>\n",
       "  <tbody>\n",
       "    <tr>\n",
       "      <th>0</th>\n",
       "      <td>BJP</td>\n",
       "      <td>OC</td>\n",
       "      <td>181</td>\n",
       "    </tr>\n",
       "    <tr>\n",
       "      <th>3</th>\n",
       "      <td>INC</td>\n",
       "      <td>OC</td>\n",
       "      <td>67</td>\n",
       "    </tr>\n",
       "    <tr>\n",
       "      <th>1</th>\n",
       "      <td>BJP</td>\n",
       "      <td>SC</td>\n",
       "      <td>32</td>\n",
       "    </tr>\n",
       "    <tr>\n",
       "      <th>2</th>\n",
       "      <td>BJP</td>\n",
       "      <td>ST</td>\n",
       "      <td>26</td>\n",
       "    </tr>\n",
       "    <tr>\n",
       "      <th>4</th>\n",
       "      <td>INC</td>\n",
       "      <td>SC</td>\n",
       "      <td>19</td>\n",
       "    </tr>\n",
       "    <tr>\n",
       "      <th>5</th>\n",
       "      <td>INC</td>\n",
       "      <td>ST</td>\n",
       "      <td>13</td>\n",
       "    </tr>\n",
       "  </tbody>\n",
       "</table>\n",
       "</div>"
      ],
      "text/plain": [
       "  Winning Party Type  Count\n",
       "0           BJP   OC    181\n",
       "3           INC   OC     67\n",
       "1           BJP   SC     32\n",
       "2           BJP   ST     26\n",
       "4           INC   SC     19\n",
       "5           INC   ST     13"
      ]
     },
     "execution_count": 95,
     "metadata": {},
     "output_type": "execute_result"
    }
   ],
   "source": [
    "pd.set_option('display.max_rows', 90)\n",
    "filt = (df['Winning Party'] == 'BJP') | (df['Winning Party'] == 'INC')\n",
    "df.loc[filt].groupby(['Winning Party', 'Type']).size().reset_index(name='Count').sort_values(by=['Count','Type', 'Winning Party'], ascending=False)"
   ]
  },
  {
   "cell_type": "code",
   "execution_count": 93,
   "id": "3b24bb81",
   "metadata": {},
   "outputs": [
    {
     "data": {
      "text/plain": [
       "<Axes: ylabel='Type'>"
      ]
     },
     "execution_count": 93,
     "metadata": {},
     "output_type": "execute_result"
    },
    {
     "data": {
      "image/png": "[encoded data removed]",
      "text/plain": [
       "<Figure size 640x480 with 1 Axes>"
      ]
     },
     "metadata": {},
     "output_type": "display_data"
    }
   ],
   "source": [
    "df.groupby('Type')['Type'].count().plot(kind= 'pie', y='Type')"
   ]
  },
  {
   "cell_type": "code",
   "execution_count": 105,
   "id": "8462c709",
   "metadata": {},
   "outputs": [
    {
     "name": "stdout",
     "output_type": "stream",
     "text": [
      "['TDP', 'YSRCP', 'BJP', 'JSP', 'INC', 'AIUDF', 'AGP', 'IND', 'AJP', 'VIP', 'JD(U)', 'RJD', 'Independent', 'LJP(RV)', 'CPI', 'CPI(M)', 'CPI(ML)L', 'HAM(S)', 'AAP', 'JKNC', 'JKPDP', 'JMM', 'AJSU', 'JD(S)', 'IUML', 'KEC', 'KC(M)', 'RSP', 'BSP', 'SS(UBT)', 'NCP-SP', 'SS', 'RSPS', 'AIMIM', 'NCP', 'NPF', 'NPP', 'BJD', 'SAD', 'RLP', 'BAP', 'DMK', 'AIADMK', 'PMK', 'VCK', 'MDMK', 'DMDK', 'AMMK', 'BRS', 'SP', 'RLD', 'ASP(KR)', 'SBSP', 'AITC', 'AD(S)', 'UPPL', 'BPF', 'VPP', 'ZPM', 'MNF', 'NDPP', 'SKM', 'Citizen Action Party (Sikkim)']\n"
     ]
    }
   ],
   "source": [
    "parties_list = list(pd.unique(df[['Winning Party', 'Runner Up Party']].values.ravel()))\n",
    "print(parties_list)"
   ]
  },
  {
   "cell_type": "code",
   "execution_count": 109,
   "id": "9f9eaa50",
   "metadata": {},
   "outputs": [],
   "source": [
    "party_alliance = {\n",
    "    'TDP': 'NDA',\n",
    "    'YSRCP': 'Others',\n",
    "    'BJP': 'NDA',\n",
    "    'JSP': 'NDA',\n",
    "    'INC': 'INDIA',\n",
    "    'AIUDF': 'INDIA',\n",
    "    'AGP': 'NDA',\n",
    "    'IND': 'Others',\n",
    "    'AJP': 'INDIA',\n",
    "    'VIP': 'Others',\n",
    "    'JD(U)': 'NDA',\n",
    "    'RJD': 'INDIA',\n",
    "    'Independent': 'Others',\n",
    "    'LJP(RV)': 'NDA',\n",
    "    'CPI': 'INDIA',\n",
    "    'CPI(M)': 'INDIA',\n",
    "    'CPI(ML)L': 'INDIA',\n",
    "    'HAM(S)': 'NDA',\n",
    "    'AAP': 'INDIA',\n",
    "    'JKNC': 'INDIA',\n",
    "    'JKPDP': 'INDIA',\n",
    "    'JMM': 'INDIA',\n",
    "    'AJSU': 'NDA',\n",
    "    'JD(S)': 'NDA',\n",
    "    'IUML': 'INDIA',\n",
    "    'KEC': 'INDIA',\n",
    "    'KC(M)': 'INDIA',\n",
    "    'RSP': 'INDIA',\n",
    "    'BSP': 'Others',\n",
    "    'SS(UBT)': 'INDIA',\n",
    "    'NCP-SP': 'INDIA',\n",
    "    'SS': 'NDA',\n",
    "    'RSPS': 'Others',\n",
    "    'AIMIM': 'Others',\n",
    "    'NCP': 'NDA',\n",
    "    'NPF': 'NDA',\n",
    "    'NPP': 'NDA',\n",
    "    'BJD': 'Others',\n",
    "    'SAD': 'NDA',\n",
    "    'RLP': 'NDA',\n",
    "    'BAP': 'Others',\n",
    "    'DMK': 'INDIA',\n",
    "    'AIADMK': 'NDA',\n",
    "    'PMK': 'NDA',\n",
    "    'VCK': 'INDIA',\n",
    "    'MDMK': 'INDIA',\n",
    "    'DMDK': 'Others',\n",
    "    'AMMK': 'Others',\n",
    "    'BRS': 'Others',\n",
    "    'SP': 'INDIA',\n",
    "    'RLD': 'INDIA',\n",
    "    'ASP(KR)': 'Others',\n",
    "    'SBSP': 'NDA',\n",
    "    'AITC': 'INDIA',\n",
    "    'AD(S)': 'INDIA',\n",
    "    'UPPL': 'NDA',\n",
    "    'BPF': 'INDIA',\n",
    "    'VPP': 'Others',\n",
    "    'ZPM': 'Others',\n",
    "    'MNF': 'NDA',\n",
    "    'NDPP': 'NDA',\n",
    "    'SKM': 'NDA',\n",
    "    'Citizen Action Party (Sikkim)': 'Others'\n",
    "}"
   ]
  },
  {
   "cell_type": "code",
   "execution_count": 110,
   "id": "8588c55c",
   "metadata": {},
   "outputs": [],
   "source": [
    "df['Alliance'] = df['Winning Party'].map(party_alliance)"
   ]
  },
  {
   "cell_type": "markdown",
   "id": "6d9992fa",
   "metadata": {},
   "source": [
    "## Seats Won by Alliance and also by type"
   ]
  },
  {
   "cell_type": "code",
   "execution_count": 142,
   "id": "6a2f1eb9",
   "metadata": {},
   "outputs": [
    {
     "data": {
      "text/plain": [
       "<Axes: ylabel='Type'>"
      ]
     },
     "execution_count": 142,
     "metadata": {},
     "output_type": "execute_result"
    },
    {
     "data": {
      "image/png": "[encoded data removed]",
      "text/plain": [
       "<Figure size 640x480 with 1 Axes>"
      ]
     },
     "metadata": {},
     "output_type": "display_data"
    }
   ],
   "source": [
    "df.groupby(['Alliance','Type'])['Type'].count().reset_index(name='Count').pivot(index='Type', columns='Alliance', values='Count').fillna(0).sort_values(by='Type', ascending=False).plot(kind='barh')"
   ]
  },
  {
   "cell_type": "code",
   "execution_count": 114,
   "id": "7814d812",
   "metadata": {},
   "outputs": [
    {
     "data": {
      "text/plain": [
       "Alliance\n",
       "INDIA     235\n",
       "NDA       291\n",
       "Others     16\n",
       "Name: count, dtype: int64"
      ]
     },
     "execution_count": 114,
     "metadata": {},
     "output_type": "execute_result"
    }
   ],
   "source": [
    "df.groupby('Alliance')['Alliance'].value_counts()"
   ]
  },
  {
   "cell_type": "markdown",
   "id": "2ecc2bb1",
   "metadata": {},
   "source": []
  }
 ],
 "metadata": {
  "kernelspec": {
   "display_name": "base",
   "language": "python",
   "name": "python3"
  },
  "language_info": {
   "codemirror_mode": {
    "name": "ipython",
    "version": 3
   },
   "file_extension": ".py",
   "mimetype": "text/x-python",
   "name": "python",
   "nbconvert_exporter": "python",
   "pygments_lexer": "ipython3",
   "version": "3.11.5"
  }
 },
 "nbformat": 4,
 "nbformat_minor": 5
}
