{
 "cells": [
  {
   "cell_type": "code",
   "execution_count": null,
   "id": "b78df26e",
   "metadata": {},
   "outputs": [],
   "source": [
    "import pandas as pd\n",
    "from sqlalchemy import create_engine\n",
    "\n",
    "username = 'root'\n",
    "password = 'Badri'\n",
    "host     = 'localhost'\n",
    "port     = '3306'\n",
    "database = 'Indian_Election_Historical_Datasets'\n",
    "\n",
    "engine = create_engine(f\"mysql+pymysql://{username}:{password}@{host}:{port}/{database}\")\n",
    "\n",
    "year = [1980,1984,1989,1991,1996,1998,1999,2004,2009,2014,2019,2024]\n",
    "dfs = {}\n",
    "for i in year:\n",
    "    dfs[i] = pd.read_csv(f'/Users/badrinathsanagavaram/Desktop/Election Data Analysis/Data/transformed-data-backup/{i}-backup-data.csv', index_col=0)\n",
    "    dfs[i].drop(columns = 'Unnamed: 0', inplace = True)\n",
    "    dfs[i].to_sql(name=f'election_results_{i}', con=engine, if_exists='replace', index=False)\n"
   ]
  },
  {
   "cell_type": "code",
   "execution_count": 23,
   "id": "109e38a1",
   "metadata": {},
   "outputs": [],
   "source": [
    "big_table = pd.DataFrame()\n",
    "length = len(year)\n",
    "for i in range(0,length):\n",
    "    left = dfs[year[i]]\n",
    "    right = big_table\n",
    "    big_table = pd.concat([right,left])\n"
   ]
  },
  {
   "cell_type": "code",
   "execution_count": 26,
   "id": "808c9398",
   "metadata": {},
   "outputs": [
    {
     "data": {
      "text/plain": [
       "Index(['State', 'No', 'Name', 'Type', 'Winning Candidate',\n",
       "       'Winning Candidate Gender', 'Winning Party', 'Winner's Votes',\n",
       "       'Runner Up Candidate', 'Runner Up Gender', 'Runner Up Party',\n",
       "       'Runner Up Votes', 'Margin Votes', 'Year', 'Party_clean', 'Candidate',\n",
       "       'Winning Percentage', 'Runner Up Percentage', 'Margin', 'Margin %'],\n",
       "      dtype='object')"
      ]
     },
     "execution_count": 26,
     "metadata": {},
     "output_type": "execute_result"
    }
   ],
   "source": [
    "big_table.columns"
   ]
  },
  {
   "cell_type": "code",
   "execution_count": 32,
   "id": "a65fc6ca",
   "metadata": {},
   "outputs": [],
   "source": [
    "big_table.drop(columns={'Margin Votes', 'Margin', 'Margin %','Winning Percentage','Runner Up Percentage', 'Candidate', 'Party_clean', 'No','Winning Candidate Gender','Runner Up Gender'}\n",
    "               ,inplace=True)"
   ]
  },
  {
   "cell_type": "code",
   "execution_count": 33,
   "id": "5be7cbff",
   "metadata": {},
   "outputs": [
    {
     "data": {
      "text/plain": [
       "6591"
      ]
     },
     "execution_count": 33,
     "metadata": {},
     "output_type": "execute_result"
    }
   ],
   "source": [
    "username = 'root'\n",
    "password = 'Badri'\n",
    "host     = 'localhost'\n",
    "port     = '3306'\n",
    "database = 'Indian_Election_Historical_Datasets'\n",
    "\n",
    "engine = create_engine(f\"mysql+pymysql://{username}:{password}@{host}:{port}/{database}\")\n",
    "big_table.to_sql(name=f'Combined-Election-Results-Table', con=engine, if_exists='replace', index=False)"
   ]
  },
  {
   "cell_type": "code",
   "execution_count": null,
   "id": "f62398e2",
   "metadata": {},
   "outputs": [],
   "source": []
  }
 ],
 "metadata": {
  "kernelspec": {
   "display_name": "base",
   "language": "python",
   "name": "python3"
  },
  "language_info": {
   "codemirror_mode": {
    "name": "ipython",
    "version": 3
   },
   "file_extension": ".py",
   "mimetype": "text/x-python",
   "name": "python",
   "nbconvert_exporter": "python",
   "pygments_lexer": "ipython3",
   "version": "3.11.5"
  }
 },
 "nbformat": 4,
 "nbformat_minor": 5
}
